{
 "cells": [
  {
   "cell_type": "code",
   "execution_count": 3,
   "id": "16fd9dc3-8ded-4ef6-8756-28b2c16917f3",
   "metadata": {},
   "outputs": [],
   "source": [
    "filename=\"CoCoTest.json\"\n",
    "with open(filename, 'r') as file:\n",
    "    data = json.load(file)\n"
   ]
  },
  {
   "cell_type": "code",
   "execution_count": 13,
   "id": "4883d2d2-d751-422f-a29d-254dd3772495",
   "metadata": {},
   "outputs": [
    {
     "data": {
      "text/plain": [
       "{'width': 1024,\n",
       " 'height': 1024,\n",
       " 'id': 0,\n",
       " 'file_name': 'images/92ee8a1f-20220302_-_LBNI_10k-6-0_000002.jpg'}"
      ]
     },
     "execution_count": 13,
     "metadata": {},
     "output_type": "execute_result"
    }
   ],
   "source": [
    "data[\"images\"]"
   ]
  },
  {
   "cell_type": "code",
   "execution_count": null,
   "id": "53ae08df-ef8f-4810-a596-4e60f32c24cc",
   "metadata": {},
   "outputs": [],
   "source": [
    "d"
   ]
  }
 ],
 "metadata": {
  "kernelspec": {
   "display_name": "Python 3 (ipykernel)",
   "language": "python",
   "name": "python3"
  },
  "language_info": {
   "codemirror_mode": {
    "name": "ipython",
    "version": 3
   },
   "file_extension": ".py",
   "mimetype": "text/x-python",
   "name": "python",
   "nbconvert_exporter": "python",
   "pygments_lexer": "ipython3",
   "version": "3.12.4"
  }
 },
 "nbformat": 4,
 "nbformat_minor": 5
}
